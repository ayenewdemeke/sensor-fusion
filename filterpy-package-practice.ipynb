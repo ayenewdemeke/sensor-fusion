{
 "cells": [
  {
   "cell_type": "code",
   "execution_count": 11,
   "id": "0c8b3f3a",
   "metadata": {},
   "outputs": [],
   "source": [
    "from filterpy.kalman import KalmanFilter\n",
    "f = KalmanFilter (dim_x=2, dim_z=1)"
   ]
  },
  {
   "cell_type": "code",
   "execution_count": 9,
   "id": "b3086086",
   "metadata": {},
   "outputs": [],
   "source": [
    "from filterpy.common import Q_discrete_white_noise\n",
    "f.Q = Q_discrete_white_noise(dim=2, dt=0.1, var=0.13)"
   ]
  },
  {
   "cell_type": "code",
   "execution_count": null,
   "id": "d72a7ee9",
   "metadata": {},
   "outputs": [],
   "source": []
  }
 ],
 "metadata": {
  "kernelspec": {
   "display_name": "Python 3 (ipykernel)",
   "language": "python",
   "name": "python3"
  },
  "language_info": {
   "codemirror_mode": {
    "name": "ipython",
    "version": 3
   },
   "file_extension": ".py",
   "mimetype": "text/x-python",
   "name": "python",
   "nbconvert_exporter": "python",
   "pygments_lexer": "ipython3",
   "version": "3.10.4"
  }
 },
 "nbformat": 4,
 "nbformat_minor": 5
}
